{
  "nbformat": 4,
  "nbformat_minor": 0,
  "metadata": {
    "colab": {
      "name": "house_prices.ipynb",
      "provenance": [],
      "collapsed_sections": []
    },
    "kernelspec": {
      "name": "python3",
      "display_name": "Python 3"
    },
    "language_info": {
      "name": "python"
    }
  },
  "cells": [
    {
      "cell_type": "code",
      "metadata": {
        "id": "XBGLalZDQWzi"
      },
      "source": [
        "#import relevant libraries\n",
        "import pandas as pd\n",
        "import numpy as np\n",
        "from sklearn.preprocessing import LabelBinarizer\n",
        "from sklearn.preprocessing import OneHotEncoder\n",
        "from sklearn.linear_model import LinearRegression\n",
        "from sklearn.tree import DecisionTreeRegressor\n",
        "from sklearn.metrics import classification_report, confusion_matrix\n",
        "import matplotlib.pyplot as pyplot\n",
        "from sklearn.model_selection import train_test_split\n",
        "from sklearn.svm import SVR\n",
        "from sklearn.metrics import r2_score,mean_squared_error\n",
        "from sklearn.preprocessing import MinMaxScaler\n"
      ],
      "execution_count": 121,
      "outputs": []
    },
    {
      "cell_type": "code",
      "metadata": {
        "colab": {
          "base_uri": "https://localhost:8080/"
        },
        "id": "nUUfdkC2O5vo",
        "outputId": "9a6b32a5-6a8a-4ee9-cd99-6594b0963fb3"
      },
      "source": [
        "dataset = pd.read_csv(\"dataset.csv\")\n",
        "dataset.head()\t#to verify it actually loaded & visualise the first 5 rows.\n",
        "\n",
        "# print the columns names\n",
        "for col in dataset.columns:\n",
        "    print(col)\n",
        "\n",
        "#print the number of rows\n",
        "print (len(dataset))"
      ],
      "execution_count": 122,
      "outputs": [
        {
          "output_type": "stream",
          "text": [
            "price\n",
            "bedrooms\n",
            "bathrooms\n",
            "sqft_living\n",
            "sqft_lot\n",
            "floors\n",
            "waterfront\n",
            "view\n",
            "condition\n",
            "grade\n",
            "sqft_basement\n",
            "yr_built\n",
            "yr_renovated\n",
            "property_typ\n",
            "21613\n"
          ],
          "name": "stdout"
        }
      ]
    },
    {
      "cell_type": "code",
      "metadata": {
        "colab": {
          "base_uri": "https://localhost:8080/",
          "height": 148
        },
        "id": "_TVEU14RSEVy",
        "outputId": "2a13b5ba-7899-4263-d166-fcac4512eb7f"
      },
      "source": [
        "def getMissingRowsPerColumn (df):\n",
        "        # count rows with missing values\n",
        "        missingValues = df.isnull().sum()\n",
        "        \n",
        "        # compute the percentage of missing values\n",
        "        percentageMissingValues = (missingValues*100) / len(df)\n",
        "        \n",
        "        # create table with the results\n",
        "        table = pd.concat([missingValues, percentageMissingValues], axis=1)\n",
        "        \n",
        "        # Rename the columns\n",
        "        renamedTable = table.rename(columns = {0 : 'Missing Values', 1 : '% tot vals'})\n",
        "        \n",
        "        # Sort descending the table by % of missing values\n",
        "        renamedTable = renamedTable [renamedTable.iloc[:,1] != 0].sort_values('% tot vals', ascending=False).round(1)\n",
        "        \n",
        "        # Print some summary information\n",
        "        print (\"Your selected dataframe has \" + str(df.shape[1]) + \" columns.\\n\"      \n",
        "            \"There are \" + str(renamedTable.shape[0]) +\n",
        "              \" columns that have missing values.\")\n",
        "        \n",
        "        # Return the dataframe with missing information\n",
        "        return renamedTable\n",
        "\n",
        "getMissingRowsPerColumn (dataset)\n"
      ],
      "execution_count": 123,
      "outputs": [
        {
          "output_type": "stream",
          "text": [
            "Your selected dataframe has 14 columns.\n",
            "There are 2 columns that have missing values.\n"
          ],
          "name": "stdout"
        },
        {
          "output_type": "execute_result",
          "data": {
            "text/html": [
              "<div>\n",
              "<style scoped>\n",
              "    .dataframe tbody tr th:only-of-type {\n",
              "        vertical-align: middle;\n",
              "    }\n",
              "\n",
              "    .dataframe tbody tr th {\n",
              "        vertical-align: top;\n",
              "    }\n",
              "\n",
              "    .dataframe thead th {\n",
              "        text-align: right;\n",
              "    }\n",
              "</style>\n",
              "<table border=\"1\" class=\"dataframe\">\n",
              "  <thead>\n",
              "    <tr style=\"text-align: right;\">\n",
              "      <th></th>\n",
              "      <th>Missing Values</th>\n",
              "      <th>% tot vals</th>\n",
              "    </tr>\n",
              "  </thead>\n",
              "  <tbody>\n",
              "    <tr>\n",
              "      <th>yr_renovated</th>\n",
              "      <td>16604</td>\n",
              "      <td>76.8</td>\n",
              "    </tr>\n",
              "    <tr>\n",
              "      <th>grade</th>\n",
              "      <td>114</td>\n",
              "      <td>0.5</td>\n",
              "    </tr>\n",
              "  </tbody>\n",
              "</table>\n",
              "</div>"
            ],
            "text/plain": [
              "              Missing Values  % tot vals\n",
              "yr_renovated           16604        76.8\n",
              "grade                    114         0.5"
            ]
          },
          "metadata": {},
          "execution_count": 123
        }
      ]
    },
    {
      "cell_type": "code",
      "metadata": {
        "colab": {
          "base_uri": "https://localhost:8080/",
          "height": 117
        },
        "id": "orBgd4-STdng",
        "outputId": "db65cbc8-5c26-48e0-ea2a-1f0d0857ff08"
      },
      "source": [
        "dataset = dataset.drop(['yr_renovated'], axis=1)\n",
        "dataset.head()#to verify the column has been actually dropped\n",
        "\n",
        "getMissingRowsPerColumn (dataset)\n",
        "\n"
      ],
      "execution_count": 124,
      "outputs": [
        {
          "output_type": "stream",
          "text": [
            "Your selected dataframe has 13 columns.\n",
            "There are 1 columns that have missing values.\n"
          ],
          "name": "stdout"
        },
        {
          "output_type": "execute_result",
          "data": {
            "text/html": [
              "<div>\n",
              "<style scoped>\n",
              "    .dataframe tbody tr th:only-of-type {\n",
              "        vertical-align: middle;\n",
              "    }\n",
              "\n",
              "    .dataframe tbody tr th {\n",
              "        vertical-align: top;\n",
              "    }\n",
              "\n",
              "    .dataframe thead th {\n",
              "        text-align: right;\n",
              "    }\n",
              "</style>\n",
              "<table border=\"1\" class=\"dataframe\">\n",
              "  <thead>\n",
              "    <tr style=\"text-align: right;\">\n",
              "      <th></th>\n",
              "      <th>Missing Values</th>\n",
              "      <th>% tot vals</th>\n",
              "    </tr>\n",
              "  </thead>\n",
              "  <tbody>\n",
              "    <tr>\n",
              "      <th>grade</th>\n",
              "      <td>114</td>\n",
              "      <td>0.5</td>\n",
              "    </tr>\n",
              "  </tbody>\n",
              "</table>\n",
              "</div>"
            ],
            "text/plain": [
              "       Missing Values  % tot vals\n",
              "grade             114         0.5"
            ]
          },
          "metadata": {},
          "execution_count": 124
        }
      ]
    },
    {
      "cell_type": "code",
      "metadata": {
        "colab": {
          "base_uri": "https://localhost:8080/",
          "height": 86
        },
        "id": "mSQJre_WVBP8",
        "outputId": "77e8b9c7-2de5-4cb5-91ff-f9b0a01e10e0"
      },
      "source": [
        "#impute values\n",
        "dataset['grade'] = dataset['grade'].fillna(dataset['grade'].mean())\n",
        "\n",
        "getMissingRowsPerColumn (dataset)\n"
      ],
      "execution_count": 125,
      "outputs": [
        {
          "output_type": "stream",
          "text": [
            "Your selected dataframe has 13 columns.\n",
            "There are 0 columns that have missing values.\n"
          ],
          "name": "stdout"
        },
        {
          "output_type": "execute_result",
          "data": {
            "text/html": [
              "<div>\n",
              "<style scoped>\n",
              "    .dataframe tbody tr th:only-of-type {\n",
              "        vertical-align: middle;\n",
              "    }\n",
              "\n",
              "    .dataframe tbody tr th {\n",
              "        vertical-align: top;\n",
              "    }\n",
              "\n",
              "    .dataframe thead th {\n",
              "        text-align: right;\n",
              "    }\n",
              "</style>\n",
              "<table border=\"1\" class=\"dataframe\">\n",
              "  <thead>\n",
              "    <tr style=\"text-align: right;\">\n",
              "      <th></th>\n",
              "      <th>Missing Values</th>\n",
              "      <th>% tot vals</th>\n",
              "    </tr>\n",
              "  </thead>\n",
              "  <tbody>\n",
              "  </tbody>\n",
              "</table>\n",
              "</div>"
            ],
            "text/plain": [
              "Empty DataFrame\n",
              "Columns: [Missing Values, % tot vals]\n",
              "Index: []"
            ]
          },
          "metadata": {},
          "execution_count": 125
        }
      ]
    },
    {
      "cell_type": "code",
      "metadata": {
        "colab": {
          "base_uri": "https://localhost:8080/"
        },
        "id": "xXotW-Ac1aBD",
        "outputId": "876b3a94-7d19-4ae1-babf-2f97f0825091"
      },
      "source": [
        "#select categorical columns only\n",
        "object_columns = list(dataset.select_dtypes(include=['object']).columns)\n",
        "categorical = dataset[object_columns]\n",
        "\n",
        "print('There are ' + str(categorical.shape[1]) + ' categorical columns within dataframe:')\n",
        "\n",
        "print(dataset[object_columns].head())"
      ],
      "execution_count": 126,
      "outputs": [
        {
          "output_type": "stream",
          "text": [
            "There are 3 categorical columns within dataframe:\n",
            "  waterfront view         property_typ\n",
            "0         no  bad            apartment\n",
            "1         no  bad  semi_detached_house\n",
            "2         no  bad            apartment\n",
            "3         no  bad  semi_detached_house\n",
            "4         no  bad            apartment\n"
          ],
          "name": "stdout"
        }
      ]
    },
    {
      "cell_type": "code",
      "metadata": {
        "colab": {
          "base_uri": "https://localhost:8080/"
        },
        "id": "2Y3T4HWy7Bw2",
        "outputId": "2efee689-c2fc-4c05-87e6-b8f15068d300"
      },
      "source": [
        "#print the values for each categorical variable\n",
        "print('--------->Waterfront:')\n",
        "print(dataset['waterfront'].value_counts())\n",
        "\n",
        "print('--------->View:')\n",
        "print(dataset['view'].value_counts())\n",
        "\n",
        "print('--------->Property_typ:')\n",
        "print(dataset['property_typ'].value_counts())"
      ],
      "execution_count": 127,
      "outputs": [
        {
          "output_type": "stream",
          "text": [
            "--------->Waterfront:\n",
            "no     21450\n",
            "yes      163\n",
            "Name: waterfront, dtype: int64\n",
            "--------->View:\n",
            "bad          19489\n",
            "good           963\n",
            "very_good      510\n",
            "medium         332\n",
            "excellent      319\n",
            "Name: view, dtype: int64\n",
            "--------->Property_typ:\n",
            "apartment                 12976\n",
            "semi_detached_house        6728\n",
            "single_family_house        1498\n",
            "multi_generation_house      230\n",
            "top_floor_apartment         181\n",
            "Name: property_typ, dtype: int64\n"
          ],
          "name": "stdout"
        }
      ]
    },
    {
      "cell_type": "code",
      "metadata": {
        "colab": {
          "base_uri": "https://localhost:8080/"
        },
        "id": "enRBNM2Q7B5n",
        "outputId": "5cb51b73-3743-4fb4-a2cb-4f0e1b91a40a"
      },
      "source": [
        "#encode categorical features\n",
        "\n",
        "encoder = LabelBinarizer()\n",
        "waterfrontEncoder = encoder.fit_transform(dataset.waterfront.values.reshape(-1,1))\n",
        "\n",
        "# Insert coded waterfront feature into the original dataset and delete the old one\n",
        "dataset['waterfrontEncoded'] = waterfrontEncoder = encoder.fit_transform(dataset.waterfront.values.reshape(-1,1))\n",
        "dataset = dataset.drop(['waterfront'], axis=1)\n",
        "\n",
        "# Create a dictionary about how the observations related to the variable 'view' should be coded\n",
        "dictionary = {'bad' : 0,\n",
        "             'medium' : 1,\n",
        "             'good' : 2,\n",
        "             'very_good' : 3,\n",
        "             'excellent' : 4}\n",
        "\n",
        "# Map the dictionary on the column view and store the results in a new column, and delete the old one\n",
        "dataset['view_encoded'] = dataset.view.map(dictionary)\n",
        "dataset = dataset.drop(['view'], axis=1)\n",
        "\n",
        "encoder = OneHotEncoder()\n",
        "OHE = encoder.fit_transform(dataset.property_typ.values.reshape(-1,1)).toarray()\n",
        "\n",
        "# Conversion of the newly generated data to a dataframe\n",
        "df_OHE = pd.DataFrame(OHE, columns = [\"property_typ\" + str(encoder.categories_[0][i]) \n",
        "                                     for i in range(len(encoder.categories_[0]))])\n",
        "\n",
        "# Insertion of the coded features into the original data set and removal of the old one\n",
        "dataset = pd.concat([dataset, df_OHE], axis=1)\n",
        "dataset = dataset.drop(['property_typ'], axis=1)\n",
        "\n",
        "dataset.head()\n",
        "\n",
        "# print the columns names\n",
        "for col in dataset.columns:\n",
        "    print(col)\n",
        "\n"
      ],
      "execution_count": 128,
      "outputs": [
        {
          "output_type": "stream",
          "text": [
            "price\n",
            "bedrooms\n",
            "bathrooms\n",
            "sqft_living\n",
            "sqft_lot\n",
            "floors\n",
            "condition\n",
            "grade\n",
            "sqft_basement\n",
            "yr_built\n",
            "waterfrontEncoded\n",
            "view_encoded\n",
            "property_typapartment\n",
            "property_typmulti_generation_house\n",
            "property_typsemi_detached_house\n",
            "property_typsingle_family_house\n",
            "property_typtop_floor_apartment\n"
          ],
          "name": "stdout"
        }
      ]
    },
    {
      "cell_type": "code",
      "metadata": {
        "colab": {
          "base_uri": "https://localhost:8080/"
        },
        "id": "k7dZY6H0TUKR",
        "outputId": "0cd75851-3b5b-4d95-c75b-425609f0cd74"
      },
      "source": [
        "#learn a regression model to fit the feature price from the other features\n",
        "y = dataset.iloc[:,0].values  #dependent feature\n",
        "X = dataset.iloc[:, 1:].values #independent features\n",
        "\n",
        "y = y.reshape(-1, 1)\n",
        "\n",
        "sc_x=MinMaxScaler()\n",
        "sc_y=MinMaxScaler()\n",
        "X = sc_x.fit_transform(X)\n",
        "y = sc_y.fit_transform(y)\n",
        "\n",
        "X_train, X_test, y_train, y_test = train_test_split(X, y, test_size=0.33, random_state=14)\n",
        "\n",
        "regressor = SVR(kernel = 'rbf')\n",
        "regressor.fit(X_train,y_train)"
      ],
      "execution_count": 129,
      "outputs": [
        {
          "output_type": "stream",
          "text": [
            "/usr/local/lib/python3.7/dist-packages/sklearn/utils/validation.py:760: DataConversionWarning: A column-vector y was passed when a 1d array was expected. Please change the shape of y to (n_samples, ), for example using ravel().\n",
            "  y = column_or_1d(y, warn=True)\n"
          ],
          "name": "stderr"
        },
        {
          "output_type": "execute_result",
          "data": {
            "text/plain": [
              "SVR(C=1.0, cache_size=200, coef0=0.0, degree=3, epsilon=0.1, gamma='scale',\n",
              "    kernel='rbf', max_iter=-1, shrinking=True, tol=0.001, verbose=False)"
            ]
          },
          "metadata": {},
          "execution_count": 129
        }
      ]
    },
    {
      "cell_type": "code",
      "metadata": {
        "colab": {
          "base_uri": "https://localhost:8080/"
        },
        "id": "Iwzy-3x0dvxC",
        "outputId": "871ea9be-0f06-4a78-aa19-1a7c9825bce7"
      },
      "source": [
        "yPred = regr.predict(X_test)\n",
        "\n",
        "mse = mean_squared_error(y_test,yPred)\n",
        "rmse = np.sqrt(mse)\n",
        "print(rmse)\n"
      ],
      "execution_count": 130,
      "outputs": [
        {
          "output_type": "stream",
          "text": [
            "0.32338882061593943\n"
          ],
          "name": "stdout"
        }
      ]
    }
  ]
}